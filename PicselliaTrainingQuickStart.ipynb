{
 "cells": [
  {
   "cell_type": "markdown",
   "metadata": {},
   "source": [
    "[![Open In Colab](https://colab.research.google.com/assets/colab-badge.svg)](https://colab.research.google.com/github/PicselliaTeam/picsellia-training-engine/blob/master/PicselliaTrainingQuickstart.ipynb)"
   ]
  },
  {
   "cell_type": "code",
   "execution_count": null,
   "metadata": {},
   "outputs": [],
   "source": [
    "from picsellia_training.clientv2 import Client\n",
    "from picsellia_tf2 import pxl_utils\n",
    "from picsellia_tf2 import pxl_tf\n",
    "import os\n",
    "api_token = '60ef4a0b3ab8086709e2a7246cc0d134beb09d8b'\n",
    "project_token = '265e8fd5-0f26-4ca2-b4c7-5f248a59f560'\n",
    "\n",
    "experiment = Client.Experiment(api_token=api_token, project_token=project_token, host='http://127.0.0.1:8000/sdk/v2/')\n",
    "\n",
    "exp = experiment.checkout('model 1')\n",
    "print(exp)\n",
    "\n",
    "experiment.dl_annotations()\n",
    "experiment.dl_pictures()\n",
    "experiment.generate_labelmap()\n",
    "experiment.train_test_split()\n",
    "parameters = {\n",
    "    \"annotation_type\": 'rectangle',\n",
    "    \"num_steps\": 1000,\n",
    "    \"batch_size\": 4,\n",
    "    \"learning_rate\": 1e-3\n",
    "}\n",
    "experiment.log('parameters', parameters)\n",
    "pxl_utils.create_record_files(\n",
    "        dict_annotations=experiment.dict_annotations, \n",
    "        train_list=experiment.train_list, \n",
    "        train_list_id=experiment.train_list_id, \n",
    "        eval_list=experiment.eval_list, \n",
    "        eval_list_id=experiment.eval_list_id,\n",
    "        label_path=experiment.label_path, \n",
    "        record_dir=experiment.record_dir, \n",
    "        tfExample_generator=pxl_tf.tf_vars_generator, \n",
    "        annotation_type=parameters['annotation_type']\n",
    "        )\n",
    "    \n",
    "pxl_utils.edit_config(\n",
    "        model_selected=experiment.checkpoint_dir, \n",
    "        input_config_dir=experiment.config_dir,\n",
    "        output_config_dir=experiment.config_dir,\n",
    "        record_dir=experiment.record_dir, \n",
    "        label_map_path=experiment.label_path, \n",
    "        num_steps=parameters['num_steps'],\n",
    "        batch_size=parameters['batch_size'],\n",
    "        learning_rate=parameters['learning_rate'],\n",
    "        annotation_type=parameters['annotation_type'],\n",
    "        eval_number = 5,\n",
    "        )\n",
    "\n",
    "pxl_utils.train(\n",
    "        ckpt_dir=experiment.checkpoint_dir, \n",
    "        config_dir=experiment.config_dir\n",
    "    )\n",
    "\n",
    "pxl_utils.evaluate(\n",
    "    experiment.metrics_dir, \n",
    "    experiment.config_dir, \n",
    "    experiment.checkpoint_dir\n",
    "    )        \n",
    "pxl_utils.export_graph(\n",
    "    ckpt_dir=experiment.checkpoint_dir, \n",
    "    exported_model_dir=experiment.exported_model_dir, \n",
    "    config_dir=experiment.config_dir\n",
    "    )\n",
    "pxl_utils.infer(\n",
    "    experiment.record_dir, \n",
    "    exported_model_dir=experiment.exported_model_dir, \n",
    "    label_map_path=os.path.join(experiment.base_dir,'label_map.pbtxt'), \n",
    "    results_dir=experiment.results_dir, \n",
    "    from_tfrecords=True, \n",
    "    disp=False\n",
    "    )\n",
    "\n",
    "metrics = pxl_utils.tf_events_to_dict('my_new_model2/metrics', 'eval')\n",
    "logs = pxl_utils.tf_events_to_dict('my_new_model2/checkpoint', 'train')\n",
    "print(logs)\n",
    "experiment.store('model-latest', 'my_new_model2/exported_model.zip')\n",
    "experiment.store('config', 'my_new_model2/config/pipeline.config')\n",
    "experiment.store('checkpoint-data-latest', 'my_new_model2/checkpoint/ckpt-10.data-00000-of-00001')\n",
    "experiment.store('checkpoint-index-latest', 'my_new_model2/checkpoint/ckpt-11.index')\n",
    "experiment.log('logs', logs)\n",
    "experiment.log('metrics', metrics)\n"
   ]
  },
  {
   "cell_type": "markdown",
   "metadata": {},
   "source": [
    "**Welcome To Picsellia Training Quickstart Notebook** \n",
    "\n",
    "In this Notebook, you will see how to launch a training from a created experiment on the Platform and log all the evaluation metrics to analyse your trained model.\n",
    "\n",
    "**Step 1, let's import our python SDK and our tensorflow2 wrapper** \n",
    "\n",
    "If you do not have our packages you can run: \n",
    "- pip install picsellia picsellia_tf2 \n"
   ]
  },
  {
   "cell_type": "code",
   "execution_count": null,
   "metadata": {},
   "outputs": [],
   "source": [
    "from picsellia import Client\n",
    "from picsellia_tf2 import pxl_utils\n",
    "from picsellia_tf2 import pxl_tf\n",
    "import os"
   ]
  },
  {
   "cell_type": "markdown",
   "metadata": {},
   "source": [
    "**Step 2, fetch your experiment parameters from the Picsellia servers**\n",
    "\n",
    "Every experiment you make has an unique identifier allowing you to retrieve all the necessary informations with one command"
   ]
  },
  {
   "cell_type": "code",
   "execution_count": null,
   "metadata": {},
   "outputs": [],
   "source": [
    "api_token = 'YOU CAN FIND YOUR TOKEN IN YOUR PROFILE PAGE :D '\n",
    "experiment_id= \"YOUR EXPERIMENT ID IS ON THE TOP LEFT CORNER OF YOUR EXPERIMENT\"\n",
    "\n",
    "experiment = Client.Experiment(api_token=api_token, host=host)\n",
    "exp = experiment.checkout(experiment_id, tree=True, with_file=True)"
   ]
  },
  {
   "cell_type": "markdown",
   "metadata": {},
   "source": [
    "**Step 3, Data fetching** \n",
    "\n",
    "Download all the necessary data for your training:\n",
    "- Dataset\n",
    "- Annotations\n",
    "\n",
    "Then generate the labelmap for your model, based on your annotations \n",
    "Finally performing train-test-split to perform training, \n",
    "**(default repartition is 0.8 / 0.2 from train/test)**\n",
    "\n",
    "Once the train test set created, we send the repartition to Picsellia platform in order to visualize it later "
   ]
  },
  {
   "cell_type": "code",
   "execution_count": null,
   "metadata": {},
   "outputs": [],
   "source": [
    "experiment.dl_annotations()\n",
    "experiment.dl_pictures()\n",
    "experiment.generate_labelmap()\n",
    "experiment.train_test_split()\n",
    "\n",
    "train_split = {\n",
    "    'x': experiment.categories,\n",
    "    'y': experiment.train_repartition,\n",
    "    'image_list': experiment.train_list_id\n",
    "}\n",
    "experiment.log('train-split', train_split, 'bar', replace=True)\n",
    "\n",
    "test_split = {\n",
    "    'x': experiment.categories,\n",
    "    'y': experiment.test_repartition,\n",
    "    'image_list': experiment.eval_list_id\n",
    "}\n",
    "experiment.log('test-split', test_split, 'bar', replace=True)"
   ]
  },
  {
   "cell_type": "markdown",
   "metadata": {},
   "source": [
    "**Step 4, Pre-processing** \n",
    "\n",
    "Now we will create the necessary record files to perform training, and initialize the training with the parameters that you chose for your experiment on Picsellia"
   ]
  },
  {
   "cell_type": "code",
   "execution_count": null,
   "metadata": {},
   "outputs": [],
   "source": [
    "parameters = experiment.get_data(name='parameters')\n",
    "\n",
    "pxl_utils.create_record_files(\n",
    "        dict_annotations=experiment.dict_annotations, \n",
    "        train_list=experiment.train_list, \n",
    "        train_list_id=experiment.train_list_id, \n",
    "        eval_list=experiment.eval_list, \n",
    "        eval_list_id=experiment.eval_list_id,\n",
    "        label_path=experiment.label_path, \n",
    "        record_dir=experiment.record_dir, \n",
    "        tfExample_generator=pxl_tf.tf_vars_generator, \n",
    "        annotation_type=parameters['annotation_type']\n",
    "        )\n",
    "    \n",
    "pxl_utils.edit_config(\n",
    "        model_selected=experiment.checkpoint_dir, \n",
    "        input_config_dir=experiment.config_dir,\n",
    "        output_config_dir=experiment.config_dir,\n",
    "        record_dir=experiment.record_dir, \n",
    "        label_map_path=experiment.label_path, \n",
    "        num_steps=parameters[\"steps\"],\n",
    "        batch_size=parameters['batch_size'],\n",
    "        learning_rate=parameters['learning_rate'],\n",
    "        annotation_type=parameters['annotation_type'],\n",
    "        eval_number = 5,\n",
    "        )"
   ]
  },
  {
   "cell_type": "markdown",
   "metadata": {},
   "source": [
    "**Step 5, Training** \n",
    "\n",
    "Then just launch training, and go grab a cup of coffee :D "
   ]
  },
  {
   "cell_type": "code",
   "execution_count": null,
   "metadata": {},
   "outputs": [],
   "source": [
    "pxl_utils.train(\n",
    "        ckpt_dir=experiment.checkpoint_dir, \n",
    "        config_dir=experiment.config_dir\n",
    "    )\n"
   ]
  },
  {
   "cell_type": "markdown",
   "metadata": {},
   "source": [
    "**Step 6, Evaluation**\n",
    "\n",
    "Now let's run evaluation on your trained model in order to analyse the performances later"
   ]
  },
  {
   "cell_type": "code",
   "execution_count": null,
   "metadata": {},
   "outputs": [],
   "source": [
    "pxl_utils.evaluate(\n",
    "    experiment.metrics_dir, \n",
    "    experiment.config_dir, \n",
    "    experiment.checkpoint_dir\n",
    "    )   "
   ]
  },
  {
   "cell_type": "markdown",
   "metadata": {},
   "source": [
    "**Step 7, Exporting and Inference**\n",
    "\n",
    "This part will export your trained model as saved_model in order to use in production or for inference in Picsellia. \n",
    "\n",
    "Inference will be performed on several images of your test set and sent to Picsellia platform to visualize some results and share it with your colloborators or community. \n",
    "\n",
    "Then all the evaluation metrics will be uploaded to your experiments pages in order to visualize all your graphs :) "
   ]
  },
  {
   "cell_type": "code",
   "execution_count": null,
   "metadata": {},
   "outputs": [],
   "source": [
    "pxl_utils.export_graph(\n",
    "    ckpt_dir=experiment.checkpoint_dir, \n",
    "    exported_model_dir=experiment.exported_model_dir, \n",
    "    config_dir=experiment.config_dir\n",
    "    )\n",
    "pxl_utils.infer(\n",
    "    experiment.record_dir, \n",
    "    exported_model_dir=experiment.exported_model_dir, \n",
    "    label_map_path=os.path.join(experiment.base_dir,'label_map.pbtxt'), \n",
    "    results_dir=experiment.results_dir, \n",
    "    from_tfrecords=True, \n",
    "    disp=False\n",
    "    )\n",
    "\n",
    "metrics = pxl_utils.tf_events_to_dict('{}/metrics'.format(exp.experiment_name), 'eval')\n",
    "logs = pxl_utils.tf_events_to_dict('{}/checkpoint'.format(exp.experiment_name), 'train')\n",
    "experiment.store('model-latest')\n",
    "experiment.store('config')\n",
    "experiment.store('checkpoint-data-latest')\n",
    "experiment.store('checkpoint-index-latest')\n",
    "for variable in logs.keys():\n",
    "    data = {\n",
    "        'steps': logs[variable][\"steps\"],\n",
    "        'values': logs[variable][\"values\"]\n",
    "    }\n",
    "    experiment.log('-'.join(variable.split('/')), data, 'line', replace=True)\n",
    "experiment.log('metrics', metrics, 'table', replace=True)"
   ]
  },
  {
   "cell_type": "markdown",
   "metadata": {},
   "source": [
    "![](https://www.google.com/search?q=google+image&client=ubuntu&hs=Q7r&channel=fs&source=lnms&tbm=isch&sa=X&ved=2ahUKEwii17Hsr9juAhWlnVwKHRUoD0sQ_AUoAXoECBQQAw&biw=2560&bih=931#imgrc=TMmIvimt9rgaYM)"
   ]
  }
 ],
 "metadata": {
  "kernelspec": {
   "display_name": "Python 3",
   "language": "python",
   "name": "python3"
  },
  "language_info": {
   "codemirror_mode": {
    "name": "ipython",
    "version": 3
   },
   "file_extension": ".py",
   "mimetype": "text/x-python",
   "name": "python",
   "nbconvert_exporter": "python",
   "pygments_lexer": "ipython3",
   "version": "3.6.10"
  }
 },
 "nbformat": 4,
 "nbformat_minor": 2
}