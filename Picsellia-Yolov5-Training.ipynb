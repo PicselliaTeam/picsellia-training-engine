{
 "metadata": {
  "language_info": {
   "codemirror_mode": {
    "name": "ipython",
    "version": 3
   },
   "file_extension": ".py",
   "mimetype": "text/x-python",
   "name": "python",
   "nbconvert_exporter": "python",
   "pygments_lexer": "ipython3",
   "version": 3
  },
  "orig_nbformat": 2
 },
 "nbformat": 4,
 "nbformat_minor": 2,
 "cells": [
  {
   "source": [
    "[![Open In Colab](https://colab.research.google.com/assets/colab-badge.svg)](https://colab.research.google.com/github/PicselliaTeam/picsellia-training-engine/blob/master/Picsellia-Yolov5-Training.ipynb)"
   ],
   "cell_type": "markdown",
   "metadata": {}
  },
  {
   "cell_type": "code",
   "execution_count": null,
   "metadata": {},
   "outputs": [],
   "source": [
    "!pip install picsellia\n",
    "!pip install picsellia_yolov5"
   ]
  },
  {
   "cell_type": "code",
   "execution_count": null,
   "metadata": {},
   "outputs": [],
   "source": [
    "from picsellia.client import Client\n",
    "from picsellia_yolov5.utils import to_yolo, find_matching_annotations, edit_model_yaml, generate_yaml, Opt, setup_hyp\n",
    "from picsellia_yolov5.utils import send_run_to_picsellia\n",
    "from picsellia_yolov5.yolov5.train import train\n",
    "import argparse \n",
    "import sys\n",
    "import os \n",
    "import subprocess \n",
    "import yaml \n",
    "import torch"
   ]
  },
  {
   "cell_type": "code",
   "execution_count": null,
   "metadata": {},
   "outputs": [],
   "source": [
    "api_token = \"\"\n",
    "project_token = \"\"\n",
    "experiment_name = \"\""
   ]
  },
  {
   "cell_type": "code",
   "execution_count": null,
   "metadata": {},
   "outputs": [],
   "source": [
    "experiment = Client.Experiment(api_token=api_token, project_token=project_token)\n",
    "exp = experiment.checkout(experiment_name, tree=True, with_file=True)\n",
    "exp.dl_annotations()\n",
    "exp.dl_pictures()\n",
    "exp.generate_labelmap() \n",
    "exp.log('labelmap', exp.label_map, 'labelmap')"
   ]
  },
  {
   "cell_type": "code",
   "execution_count": null,
   "metadata": {},
   "outputs": [],
   "source": [
    "YOLODIR = 'YOLO-{}'.format(experiment_name)\n",
    "train_set, test_set = to_yolo(pxl_annotations_dict=exp.dict_annotations,labelmap=exp.label_map, base_imgdir=exp.png_dir, targetdir=YOLODIR, prop=0.7, copy_image=False) \n",
    "\n",
    "train_split = {\n",
    "    'x': train_set[\"categories\"],\n",
    "    'y': train_set[\"train_repartition\"],\n",
    "    'image_list': train_set[\"image_list\"],\n",
    "}\n",
    "experiment.log('train-split', train_split, 'bar', replace=True)\n",
    "\n",
    "test_split = {\n",
    "    'x': test_set[\"categories\"],\n",
    "    'y': test_set[\"train_repartition\"],\n",
    "    'image_list': test_set[\"image_list\"],\n",
    "}\n",
    "experiment.log('test-split', test_split, 'bar', replace=True)"
   ]
  },
  {
   "cell_type": "code",
   "execution_count": null,
   "metadata": {},
   "outputs": [],
   "source": [
    "generate_yaml(yamlname=experiment_name, targetdir=YOLODIR, labelmap=exp.label_map)\n",
    "cfg = edit_model_yaml(label_map=exp.label_map, experiment_name=experiment_name, config_path=exp.config_dir)"
   ]
  },
  {
   "cell_type": "code",
   "execution_count": null,
   "metadata": {},
   "outputs": [],
   "source": [
    "hyp, opt, device = setup_hyp(experiment_name, cfg, exp.checkpoint_dir, exp.get_data('parameters'), exp.label_map)"
   ]
  },
  {
   "cell_type": "code",
   "execution_count": null,
   "metadata": {},
   "outputs": [],
   "source": [
    "train(hyp, opt, opt.device, pxl=exp)"
   ]
  },
  {
   "cell_type": "code",
   "execution_count": null,
   "metadata": {},
   "outputs": [],
   "source": [
    "send_run_to_picsellia(exp, YOLODIR)"
   ]
  }
 ]
}